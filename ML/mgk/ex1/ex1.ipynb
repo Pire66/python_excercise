{
 "cells": [
  {
   "cell_type": "code",
   "execution_count": 62,
   "metadata": {},
   "outputs": [],
   "source": [
    "import numpy as np\n",
    "from sklearn.decomposition import PCA\n",
    "from sklearn import datasets\n",
    "import matplotlib\n",
    "import matplotlib.pyplot as plt\n",
    "%matplotlib inline\n"
   ]
  },
  {
   "cell_type": "markdown",
   "metadata": {},
   "source": [
    "Импортируем датасет."
   ]
  },
  {
   "cell_type": "code",
   "execution_count": 63,
   "metadata": {},
   "outputs": [],
   "source": [
    "all_objects = np.genfromtxt('7_36.csv', \n",
    "                      delimiter =',')"
   ]
  },
  {
   "cell_type": "markdown",
   "metadata": {},
   "source": [
    "Первые 10 объектов датасета"
   ]
  },
  {
   "cell_type": "code",
   "execution_count": 64,
   "metadata": {
    "scrolled": true
   },
   "outputs": [
    {
     "name": "stdout",
     "output_type": "stream",
     "text": [
      "[[ -2.51983488  -8.43688037   6.9085098   -5.45965612   0.80754111\n",
      "    6.73046028  -4.81608355  20.78924415 -15.97031939  11.53824102]\n",
      " [ -0.9390801   -9.5177236    5.06860804  -5.97536942  -2.31127541\n",
      "   11.21104368  -3.68358874  20.04959089 -14.77788443  10.71644137]\n",
      " [  3.99693201  20.48400633 -13.00107941   0.2658661   21.04250895\n",
      "  -20.50333892   1.02181519  12.31702615  11.12460593  -3.20893198]\n",
      " [  2.37428832  22.17204979 -12.34386609   2.29089903  21.16408538\n",
      "  -19.99377715  -0.84141941  13.84907417   9.18887873  -1.65812029]\n",
      " [ 10.87454241  15.2159938   -4.84837639 -23.4625575   -8.6604147\n",
      "   19.59728218 -14.49223293  -4.49593891  21.30987638 -24.09974452]\n",
      " [-16.0026197   -2.75730359  -6.57788061   0.1434327   -7.26244895\n",
      "   15.97561434  14.16479871 -13.44254234   2.63419327 -13.27324204]\n",
      " [ -4.28079065 -10.1129149   10.26942178  -6.8566726   -3.61309715\n",
      "    9.01889306  -5.95127652  19.81739915 -17.90133496  14.57040504]\n",
      " [-15.06283569  -3.89883551  -6.50543399  -1.02118073 -10.15435403\n",
      "   17.0066475   13.13214393 -10.47883307   4.57121043  -9.68952501]\n",
      " [-21.98086616  12.31299603  -4.9448147   10.40086806  23.48940139\n",
      "    0.68960339  -0.36563869 -23.70159678 -11.55631758  -2.69634807]\n",
      " [-21.02161297  16.15329889  -0.82456065  10.85415944  24.39743692\n",
      "    3.0273334   -0.23326001 -24.06446261 -10.59599244   1.3356535 ]]\n"
     ]
    }
   ],
   "source": [
    "print(all_objects[:10])"
   ]
  },
  {
   "cell_type": "code",
   "execution_count": 65,
   "metadata": {},
   "outputs": [
    {
     "name": "stdout",
     "output_type": "stream",
     "text": [
      "[-14.27903089 -16.39322252] [ -9.08536227 -17.12742672]\n"
     ]
    }
   ],
   "source": [
    "pca = PCA(n_components=2, svd_solver='full') #Создание объекта класса PCA. В качестве параметров выступает количество ГК и метод оптимизации\n",
    "X_transformed2 = pca.fit(all_objects).transform(all_objects) #X_transformed -- ndarray объектов, где каждый объект описывается двумя ГК\n",
    "print(X_transformed2[0], X_transformed2[1])"
   ]
  },
  {
   "cell_type": "code",
   "execution_count": 66,
   "metadata": {},
   "outputs": [
    {
     "data": {
      "text/plain": [
       "<matplotlib.collections.PathCollection at 0x7f0bb5f81430>"
      ]
     },
     "execution_count": 66,
     "metadata": {},
     "output_type": "execute_result"
    },
    {
     "data": {
      "image/png": "[encoded data removed]",
      "text/plain": [
       "<Figure size 432x288 with 1 Axes>"
      ]
     },
     "metadata": {
      "needs_background": "light"
     },
     "output_type": "display_data"
    }
   ],
   "source": [
    "plt.scatter(X_transformed2[:61,0], X_transformed2[:61,1])\n",
    "#,c = ['r', 'g', 'b', 'w'], edgecolor='none', s=5)\n",
    "#,cmap='winter')"
   ]
  },
  {
   "cell_type": "code",
   "execution_count": 67,
   "metadata": {},
   "outputs": [
    {
     "data": {
      "text/plain": [
       "array([0.365, 0.654])"
      ]
     },
     "execution_count": 67,
     "metadata": {},
     "output_type": "execute_result"
    }
   ],
   "source": [
    "explained_variance = np.round(np.cumsum(pca.explained_variance_ratio_),3)\n",
    "explained_variance"
   ]
  },
  {
   "cell_type": "code",
   "execution_count": 68,
   "metadata": {},
   "outputs": [
    {
     "name": "stdout",
     "output_type": "stream",
     "text": [
      "[[-1.42790309e+01 -1.63932225e+01 -2.32215849e+01 -1.29385197e+01\n",
      "  -6.18989347e+00  1.08971357e+00 -1.27563838e+00 -4.50180420e-03\n",
      "  -6.74475855e-01  5.58473950e-01]\n",
      " [-9.08536227e+00 -1.71274267e+01 -2.52183669e+01 -1.40870279e+01\n",
      "  -5.08469215e+00  1.71698077e+00 -6.62744111e-01 -1.94786991e-03\n",
      "   1.71302683e+00 -1.74690139e-01]\n",
      " [-1.41677470e+01  1.02920839e+00  3.21342920e+01 -1.12827525e+01\n",
      "   5.72292725e+00 -2.06300257e-02 -2.55782625e+00  7.00801906e-01\n",
      "  -1.41452957e+00  1.06955690e+00]\n",
      " [-1.64949088e+01  1.26575555e+00  3.12427479e+01 -1.13972656e+01\n",
      "   3.68076312e+00 -8.09654248e-01 -4.61810050e-01 -1.50353888e+00\n",
      "  -1.72371373e+00 -2.86859140e-01]\n",
      " [ 4.21977476e+01 -1.46336801e+01  1.31017251e+01  4.93230005e+00\n",
      "  -8.53928664e+00 -2.55268982e-01 -1.70971502e+00  2.94749161e+00\n",
      "  -3.43924740e-01  1.75394660e+00]\n",
      " [ 2.03682796e+01  1.70130854e+01 -1.66699841e+01  1.99001018e+00\n",
      "   1.58341395e+01  2.78411091e+00 -1.09171689e-01  3.12974022e-01\n",
      "  -1.05694081e+00  4.81250361e-01]\n",
      " [-1.38330629e+01 -1.84537068e+01 -2.93558468e+01 -1.05244084e+01\n",
      "  -7.16863273e+00 -1.45963665e+00  4.03531043e-01  4.47316791e-01\n",
      "  -2.11437150e-01  1.26241733e+00]\n",
      " [ 2.03636426e+01  1.22395680e+01 -1.80847436e+01  1.18893881e+00\n",
      "   1.66406526e+01  2.36316222e-01  2.02715529e-01  3.21734547e-01\n",
      "   1.03107591e+00 -1.06483579e+00]\n",
      " [-9.30110846e+00  3.84856309e+01 -1.81114820e+00  8.81851612e+00\n",
      "  -7.91654600e+00  1.74818890e+00 -1.64348373e+00 -1.05779271e+00\n",
      "   6.73773561e-02  1.00572139e+00]\n",
      " [-9.88902299e+00  3.87833601e+01 -1.87544898e+00  7.91248215e+00\n",
      "  -1.11523007e+01 -2.28174778e+00  1.87624363e+00  2.49611645e+00\n",
      "   1.16348970e-01 -8.58966339e-01]\n",
      " [ 4.16422634e+01 -1.51458600e+01  9.72713627e+00  2.96475345e+00\n",
      "  -5.87563306e+00 -8.00641844e-01  3.51862963e+00  5.64486671e-02\n",
      "  -1.24149141e+00 -7.72450768e-01]\n",
      " [-2.51701058e+01 -2.25961844e+01  3.56089876e-01  1.40714238e+01\n",
      "   3.91953197e+00 -3.15809650e-01  3.23035634e+00  2.66208186e+00\n",
      "   5.30535958e-01  1.98021196e-01]\n",
      " [ 4.47699558e+01 -1.75708436e+01  1.23792182e+01  3.39112604e+00\n",
      "  -7.50816126e+00 -2.26502807e+00  3.07437601e-01 -8.08953031e-01\n",
      "  -1.39339052e+00  1.33189960e+00]\n",
      " [-2.39151799e+01 -1.96761619e+01  1.83950899e+00  1.49493997e+01\n",
      "   5.04928173e+00 -2.01311235e-01 -3.77172973e-01 -2.75470954e-01\n",
      "  -9.76329944e-01  1.95283943e+00]\n",
      " [ 4.13234714e+01 -1.50259171e+01  1.29917819e+01  3.58312790e+00\n",
      "  -6.31664624e+00 -1.11780691e-02 -1.71696688e+00 -1.08908143e+00\n",
      "  -5.41710870e-01  1.45404416e-01]\n",
      " [-2.61928825e+01 -2.09860653e+01  1.53745650e+00  1.59900808e+01\n",
      "   5.02258591e+00 -6.09314931e-01  1.69951443e+00 -1.24930235e+00\n",
      "   1.23754132e+00  4.06029610e-01]\n",
      " [ 4.19970875e+01 -1.47954254e+01  1.36721659e+01  4.20694053e+00\n",
      "  -7.79755537e+00  2.35904749e+00 -2.56795280e-01  5.19252177e-01\n",
      "  -1.99819870e+00 -8.99168011e-01]\n",
      " [ 2.28434075e+01  1.59605728e+01 -1.42960037e+01  1.10540019e+00\n",
      "   1.36299641e+01  6.47386916e-01 -6.24653159e-01 -4.18309524e-01\n",
      "  -9.59545352e-01  1.16967865e-01]\n",
      " [-1.59686923e+01  1.58598415e+00  2.90438832e+01 -1.23094066e+01\n",
      "   3.34301105e+00 -2.48653799e+00  1.74750935e+00 -6.25361546e-01\n",
      "  -7.97503458e-01 -3.54065341e-01]\n",
      " [-2.71646760e+01 -2.25291279e+01  3.58759399e+00  1.84007354e+01\n",
      "   5.38235016e+00  1.80882755e+00 -1.56232524e+00 -1.32164725e+00\n",
      "   3.89006361e-01 -5.03488099e-01]\n",
      " [-1.20094759e+01  3.57534335e+01 -1.15577732e+00  7.70933431e+00\n",
      "  -1.07702523e+01 -1.26151382e+00 -1.46332478e+00 -2.38494016e+00\n",
      "   7.70839496e-01  1.60539770e+00]\n",
      " [-2.73521666e+01 -2.18238437e+01 -1.83547732e+00  1.58681275e+01\n",
      "   3.69781590e+00  2.40010883e-01 -2.72781555e-02  2.55143104e+00\n",
      "  -1.94260896e+00 -1.14829051e+00]\n",
      " [-1.12006789e+01 -1.66534747e+01 -2.67840038e+01 -1.26861439e+01\n",
      "  -8.81915326e+00 -6.50603006e-01 -2.34888441e+00 -5.02521680e-02\n",
      "  -7.33632712e-01  6.32123512e-01]\n",
      " [-2.72419178e+01 -2.05252585e+01 -3.34064418e-01  1.66145617e+01\n",
      "   5.23497824e+00 -6.08048617e-01 -5.85184998e-01 -3.78569410e-01\n",
      "   1.12791349e+00 -5.30356479e-01]\n",
      " [-1.26176161e+01 -1.56287843e+01 -2.57202730e+01 -1.34457744e+01\n",
      "  -6.33821703e+00 -1.21046858e-01  5.71707796e-02  7.56287333e-01\n",
      "  -7.56037876e-01 -1.85603849e+00]\n",
      " [-1.09150685e+01 -1.73495518e+01 -2.57178239e+01 -1.37114060e+01\n",
      "  -7.82594443e+00 -2.04734082e+00  1.72503040e+00 -8.93012287e-01\n",
      "   7.04146683e-01  1.59800156e+00]\n",
      " [ 1.95787439e+01  1.46931573e+01 -1.55877453e+01 -1.73742395e+00\n",
      "   1.29923177e+01 -1.12695885e+00  4.78681754e-01  7.84499944e-01\n",
      "  -9.86304149e-01  1.91335470e-01]\n",
      " [-1.33581119e+01  1.87905823e+00  2.74010839e+01 -1.27131433e+01\n",
      "   5.29540912e+00 -1.39583195e-01  1.27715126e+00 -4.50610436e-02\n",
      "   2.54036111e-01  6.66438678e-01]\n",
      " [-1.58311209e+01  2.18439387e+00  3.43765708e+01 -1.45392548e+01\n",
      "   1.90127583e+00  8.55785728e-01 -1.81409977e+00  9.04957272e-01\n",
      "   1.30070314e+00  3.70906174e-01]\n",
      " [-1.27363088e+01  3.90769429e+00  2.92297790e+01 -1.06469141e+01\n",
      "   1.60552040e+00  3.03364049e-01  8.30819985e-01 -1.10661687e+00\n",
      "  -1.14194639e+00  5.55816070e-01]\n",
      " [ 2.26811229e+01  1.25550033e+01 -1.44828937e+01 -1.86884573e+00\n",
      "   1.38400647e+01 -2.12660215e+00  2.29855249e+00 -7.91506503e-01\n",
      "  -1.15033758e+00 -3.44035103e-01]\n",
      " [-1.21646948e+01 -1.62003830e+01 -2.65585168e+01 -1.18724376e+01\n",
      "  -5.60191554e+00 -7.04262591e-01  4.86232355e-01  4.24506425e-01\n",
      "  -1.19790575e+00 -1.07247990e+00]\n",
      " [-9.05906973e+00  3.72127170e+01  4.88781251e-01  8.76298137e+00\n",
      "  -8.29646497e+00 -2.09806633e+00  1.47872455e+00 -9.15487103e-02\n",
      "   3.18101670e-01  7.81630562e-01]\n",
      " [ 1.90591556e+01  1.52080646e+01 -1.59979903e+01 -3.78543588e+00\n",
      "   1.64860767e+01 -1.74304921e-01  5.71788499e-01 -1.72483841e+00\n",
      "   5.21377777e-03 -1.74677520e+00]\n",
      " [ 1.88264508e+01  1.52267908e+01 -1.43366299e+01 -1.20298183e+00\n",
      "   1.44482177e+01 -3.43873205e+00 -1.65112953e+00  7.91246316e-01\n",
      "  -1.47274109e+00 -4.39289803e-02]\n",
      " [ 4.16734286e+01 -1.36754655e+01  9.37169485e+00  4.76887725e+00\n",
      "  -7.18607829e+00  3.92532880e-01 -1.58774793e+00 -1.49560235e+00\n",
      "  -5.20733525e-01 -9.61896596e-01]\n",
      " [-2.64400961e+01 -2.26324223e+01 -1.88279164e+00  1.53814210e+01\n",
      "   3.29071229e+00 -1.93891592e+00 -3.22716257e+00 -9.82094388e-01\n",
      "  -9.81199204e-01 -1.67600669e+00]\n",
      " [ 4.21096171e+01 -1.63341701e+01  1.01769995e+01  5.49842374e+00\n",
      "  -7.93616728e+00  2.26839594e+00  3.80354506e-01  1.70019542e+00\n",
      "   1.63523171e+00 -6.27157886e-01]\n",
      " [-2.62461447e+01 -2.47616559e+01 -3.58642971e-01  1.69431660e+01\n",
      "   3.52050484e+00  2.12107520e+00  4.50738194e-01 -7.13852522e-01\n",
      "   6.36053168e-02 -1.22646882e+00]\n",
      " [-9.38246002e+00 -1.74034740e+01 -2.26081313e+01 -1.32304155e+01\n",
      "  -7.19231579e+00  2.22826115e+00 -9.61331957e-01 -5.60638352e-01\n",
      "   2.18073429e-01 -1.73818082e+00]\n",
      " [-1.21973183e+01 -1.46869788e+01 -2.38325023e+01 -1.29077887e+01\n",
      "  -5.70317480e+00 -1.46935315e+00 -8.40858551e-02  4.80276737e-01\n",
      "   1.40873012e+00 -5.02922089e-01]\n",
      " [-1.08875810e+01  3.83069113e+01 -2.28090965e+00  4.77224679e+00\n",
      "  -9.10506768e+00  1.24315136e+00  1.25997372e+00  4.90072609e-01\n",
      "  -2.26673152e-01 -6.19826334e-01]\n",
      " [-8.83022613e+00 -1.66622486e+01 -2.65386563e+01 -1.46804784e+01\n",
      "  -5.21684144e+00  1.94893483e+00  2.07922989e+00 -8.16192452e-01\n",
      "  -4.56629003e-01  1.65246445e+00]\n",
      " [ 4.16099171e+01 -1.49819100e+01  9.59573401e+00  2.66246316e+00\n",
      "  -4.82848244e+00  1.65449476e+00  2.09391771e+00 -1.23205446e+00\n",
      "   3.62155390e+00  1.33669646e-01]\n",
      " [ 1.98420548e+01  1.27831810e+01 -1.65235169e+01 -3.43485855e-01\n",
      "   1.45053397e+01  4.45688166e-01  6.65889700e-01 -1.24592421e+00\n",
      "   1.59961740e+00  4.85911150e-01]\n",
      " [-1.09676148e+01  3.56635669e+01 -2.77984912e-01  4.80767769e+00\n",
      "  -9.56483487e+00  1.56163091e+00  8.24628139e-01 -1.99139626e+00\n",
      "   9.10493950e-02 -3.27371747e-01]\n",
      " [-1.14134812e+01  3.95308327e+01 -2.18061737e+00  5.26124884e+00\n",
      "  -1.16583823e+01  3.36560496e-01 -1.32264398e+00  3.04786500e-02\n",
      "   8.69556098e-01 -9.33052475e-01]\n",
      " [-1.59573606e+01  1.25865595e+00  3.21855648e+01 -1.26114998e+01\n",
      "   5.54059914e+00 -6.56675065e-01  1.90805400e+00 -1.04708383e-01\n",
      "   6.05187426e-01 -6.37727933e-01]\n",
      " [-9.46980146e+00  3.67372447e+01 -3.79907320e+00  4.14010918e+00\n",
      "  -7.87372422e+00 -8.53173511e-01 -2.17885110e-01  1.20882986e+00\n",
      "   6.80120649e-01 -1.03329311e+00]\n",
      " [-1.46502882e+01 -2.26243013e-01  3.11349329e+01 -1.12263943e+01\n",
      "   2.64902057e+00  3.96676112e+00  1.19470629e+00 -1.82450417e+00\n",
      "  -1.37026622e+00 -3.74895991e-02]\n",
      " [ 4.16902778e+01 -1.50668137e+01  1.29181024e+01  3.38814676e+00\n",
      "  -9.24933154e+00 -1.25916997e+00 -8.15942168e-01 -1.61564745e+00\n",
      "   4.87423346e-01 -5.84572957e-01]\n",
      " [-2.70996857e+01 -2.48923499e+01  1.80270172e+00  1.66456059e+01\n",
      "   4.37196384e+00 -4.01520728e-01  2.88756360e-01  8.75024353e-01\n",
      "   2.61800371e-01  1.64007007e+00]\n",
      " [ 4.12786469e+01 -1.71914431e+01  1.10282767e+01  3.90918360e+00\n",
      "  -7.03875772e+00 -2.29403231e+00 -2.24348466e-01  1.26666328e+00\n",
      "   8.93309199e-01 -7.40765438e-02]\n",
      " [ 2.16547518e+01  1.60034157e+01 -1.54057390e+01 -7.12630981e-01\n",
      "   1.34149086e+01  3.14354445e+00  5.73080644e-02  3.92900987e+00\n",
      "  -5.87294954e-02  1.36074154e+00]\n",
      " [-8.60813772e+00  3.57706631e+01 -2.44991578e+00  5.92009965e+00\n",
      "  -8.81245152e+00  1.17036935e+00  1.47926644e+00 -1.89866767e+00\n",
      "  -1.71978606e+00  1.35593631e-01]\n",
      " [-1.51367727e+01  4.13089842e+00  3.16822032e+01 -1.49665680e+01\n",
      "   5.00108049e+00  2.55997632e+00 -3.33672487e-01  2.50528185e+00\n",
      "   1.17670947e+00 -1.50086435e-03]\n",
      " [-1.12567189e+01  3.86367522e+01 -3.46113892e+00  4.94468552e+00\n",
      "  -8.66132816e+00  3.89031739e-01 -1.61826216e+00  2.72005128e+00\n",
      "  -2.73787884e-01  8.11488122e-02]\n",
      " [ 2.03762916e+01  1.40852743e+01 -1.49470277e+01 -2.23015972e+00\n",
      "   1.58687372e+01 -5.51375869e-01 -2.45694090e+00 -2.00608826e+00\n",
      "   2.17782717e+00  8.78672459e-01]\n",
      " [-2.37044560e+01 -1.99655581e+01  1.89652458e+00  1.58558429e+01\n",
      "   2.50460205e+00 -2.32874315e-01  3.62292495e-01 -6.70386489e-01\n",
      "   5.37514284e-01  7.46207444e-01]\n",
      " [-1.36901610e+01  3.70477601e+00  3.06884215e+01 -1.37008746e+01\n",
      "   6.83388079e+00 -3.54922814e+00 -1.53697711e+00  1.09698009e+00\n",
      "   2.42933482e+00 -1.16068481e+00]]\n"
     ]
    }
   ],
   "source": [
    "pca = PCA(n_components=10, svd_solver='full') #Создание объекта класса PCA. В качестве параметров выступает количество ГК и метод оптимизации\n",
    "X_transformed_full = pca.fit(all_objects).transform(all_objects) #X_transformed -- ndarray объектов, где каждый объект описывается двумя ГК\n",
    "print(X_transformed_full)\n"
   ]
  },
  {
   "cell_type": "code",
   "execution_count": 69,
   "metadata": {},
   "outputs": [
    {
     "data": {
      "text/plain": [
       "<matplotlib.collections.PathCollection at 0x7f0bb5e4b340>"
      ]
     },
     "execution_count": 69,
     "metadata": {},
     "output_type": "execute_result"
    },
    {
     "data": {
      "image/png": "[encoded data removed]",
      "text/plain": [
       "<Figure size 432x288 with 1 Axes>"
      ]
     },
     "metadata": {
      "needs_background": "light"
     },
     "output_type": "display_data"
    }
   ],
   "source": [
    "plt.scatter(X_transformed_full[:61,0], X_transformed_full[:61,1])\n"
   ]
  },
  {
   "cell_type": "markdown",
   "metadata": {},
   "source": [
    "Посмотрим, что из себя представляет, например, нулевой объект датасета."
   ]
  },
  {
   "cell_type": "code",
   "execution_count": 70,
   "metadata": {},
   "outputs": [
    {
     "data": {
      "text/plain": [
       "array([0.365, 0.654, 0.874, 0.945, 0.994, 0.996, 0.997, 0.999, 0.999,\n",
       "       1.   ])"
      ]
     },
     "execution_count": 70,
     "metadata": {},
     "output_type": "execute_result"
    }
   ],
   "source": [
    "explained_variance = np.round(np.cumsum(pca.explained_variance_ratio_),3)\n",
    "explained_variance"
   ]
  },
  {
   "cell_type": "code",
   "execution_count": 72,
   "metadata": {},
   "outputs": [
    {
     "data": {
      "text/plain": [
       "[<matplotlib.lines.Line2D at 0x7f0bb5efd5b0>]"
      ]
     },
     "execution_count": 72,
     "metadata": {},
     "output_type": "execute_result"
    },
    {
     "data": {
      "image/png": "[encoded data removed]",
      "text/plain": [
       "<Figure size 432x288 with 1 Axes>"
      ]
     },
     "metadata": {
      "needs_background": "light"
     },
     "output_type": "display_data"
    }
   ],
   "source": [
    "plt.plot([1,2,3,4,5,6,7,8,9,10],explained_variance)"
   ]
  },
  {
   "cell_type": "code",
   "execution_count": null,
   "metadata": {},
   "outputs": [],
   "source": []
  }
 ],
 "metadata": {
  "kernelspec": {
   "display_name": "Python 3 (ipykernel)",
   "language": "python",
   "name": "python3"
  },
  "language_info": {
   "codemirror_mode": {
    "name": "ipython",
    "version": 3
   },
   "file_extension": ".py",
   "mimetype": "text/x-python",
   "name": "python",
   "nbconvert_exporter": "python",
   "pygments_lexer": "ipython3",
   "version": "3.9.7"
  }
 },
 "nbformat": 4,
 "nbformat_minor": 2
}
