{
 "cells": [
  {
   "cell_type": "code",
   "execution_count": 8,
   "id": "20229753",
   "metadata": {},
   "outputs": [],
   "source": [
    "# encoding: utf-8\n",
    "import psycopg2 as pg_driver\n",
    "\n",
    "# Postgres, запущенный в докере, не требует пароля, если клиент находится на localhost\n",
    "db = pg_driver.connect(dbname='homework_db',user=\"postgres\", host=\"localhost\")\n",
    "cur = db.cursor()\n"
   ]
  },
  {
   "cell_type": "code",
   "execution_count": 26,
   "id": "cd93c02f",
   "metadata": {},
   "outputs": [
    {
     "name": "stdout",
     "output_type": "stream",
     "text": [
      "('Commander 5', 'Spacecraft 1', datetime.date(2020, 6, 1))\n",
      "('Commander 5', 'Spacecraft 2', datetime.date(2020, 8, 1))\n",
      "('Commander 5', 'Spacecraft 3', datetime.date(2020, 10, 1))\n"
     ]
    }
   ],
   "source": [
    "def fun2(commander_id):\n",
    "    \n",
    "    cur.execute(\"SELECT commander.name, spacecraft.name, start_date FROM Flight INNER JOIN  spacecraft ON Flight.spacecraft_id=spacecraft.id INNER JOIN Commander ON Flight.commander_id=Commander.id WHERE Flight.commander_id = \" + str(commander_id))\n",
    "    result = cur.fetchall()\n",
    "    return result\n",
    "\n",
    "for row in fun2(5):\n",
    "    print(row)"
   ]
  },
  {
   "cell_type": "code",
   "execution_count": 27,
   "id": "9d91c058",
   "metadata": {},
   "outputs": [
    {
     "name": "stdout",
     "output_type": "stream",
     "text": [
      "('Commander 5', 'Spacecraft 1', datetime.date(2020, 6, 1))\n",
      "('Commander 5', 'Spacecraft 2', datetime.date(2020, 8, 1))\n",
      "('Commander 5', 'Spacecraft 3', datetime.date(2020, 10, 1))\n"
     ]
    }
   ],
   "source": [
    "def fun1(commander_id):\n",
    "    result = []\n",
    "    cur.execute(\"SELECT commander_id, spacecraft_id, start_date FROM Flight\")\n",
    "    for flight in cur.fetchall():\n",
    "        if flight[0] != commander_id:\n",
    "            continue\n",
    "        cur.execute(\"SELECT id, name FROM Spacecraft\")\n",
    "        for spacecraft in cur.fetchall():\n",
    "            if spacecraft[0] == flight[1]:\n",
    "                result.append((spacecraft, flight)) # добавляем в результат пару\n",
    "    return result\n",
    "\n",
    "def fun2(commander_id):\n",
    "    result = []\n",
    "    for spacecraft, flight in fun1(commander_id):\n",
    "        cur.execute(\"SELECT id, name FROM Commander\")\n",
    "        for cmndr in cur.fetchall():\n",
    "            if cmndr[0] == flight[0]:\n",
    "                result.append((cmndr[1], spacecraft[1], flight[2])) # добавляем в результат тройку\n",
    "    return result\n",
    "\n",
    "for row in fun2(5):\n",
    "    print(row)"
   ]
  },
  {
   "cell_type": "code",
   "execution_count": null,
   "id": "4789fa16",
   "metadata": {},
   "outputs": [],
   "source": []
  }
 ],
 "metadata": {
  "kernelspec": {
   "display_name": "Python 3 (ipykernel)",
   "language": "python",
   "name": "python3"
  },
  "language_info": {
   "codemirror_mode": {
    "name": "ipython",
    "version": 3
   },
   "file_extension": ".py",
   "mimetype": "text/x-python",
   "name": "python",
   "nbconvert_exporter": "python",
   "pygments_lexer": "ipython3",
   "version": "3.9.7"
  }
 },
 "nbformat": 4,
 "nbformat_minor": 5
}
