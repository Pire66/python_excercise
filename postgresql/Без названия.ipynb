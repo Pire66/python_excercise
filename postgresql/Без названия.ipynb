{
 "cells": [
  {
   "cell_type": "code",
   "execution_count": 1,
   "id": "753a21e6",
   "metadata": {},
   "outputs": [],
   "source": [
    "import sqlite3\n",
    "from random import randint\n",
    "from random import shuffle\n",
    "\n",
    "db = sqlite3.connect('m5task2.db')\n",
    "cur = db.cursor()\n",
    "\n",
    "cur.execute(\"CREATE TABLE T(id INT PRIMARY KEY, value INT UNIQUE)\")\n",
    "db.commit()\n",
    "\n"
   ]
  },
  {
   "cell_type": "code",
   "execution_count": 3,
   "id": "96a8a099",
   "metadata": {},
   "outputs": [],
   "source": [
    "values = set()\n",
    "halfset = randint(5, 15)\n",
    "for i in range(0, halfset*2 + 1):\n",
    "    while True:\n",
    "        nextval = randint(1, 100)\n",
    "        if nextval not in values:\n",
    "            values.add(nextval)\n",
    "            break\n",
    "\n",
    "v2 = [v for v in values]\n",
    "shuffle(v2)\n",
    "i = 1\n",
    "for v in v2:\n",
    "    cur.execute(\"INSERT INTO T(id, value) VALUES(?, ?)\", (i, v))\n",
    "    i = i + 1\n",
    "db.commit()"
   ]
  },
  {
   "cell_type": "code",
   "execution_count": 5,
   "id": "d51a54c7",
   "metadata": {},
   "outputs": [
    {
     "data": {
      "text/plain": [
       "<sqlite3.Cursor at 0x7f146122a8f0>"
      ]
     },
     "execution_count": 5,
     "metadata": {},
     "output_type": "execute_result"
    }
   ],
   "source": [
    "cur.execute(\"SELECT * FROM T\")"
   ]
  },
  {
   "cell_type": "code",
   "execution_count": 8,
   "id": "01d1c59f",
   "metadata": {},
   "outputs": [
    {
     "name": "stdout",
     "output_type": "stream",
     "text": [
      "[]\n"
     ]
    }
   ],
   "source": [
    "print(cur.fetchall())\n",
    "l = cur.fetchall()"
   ]
  },
  {
   "cell_type": "code",
   "execution_count": 10,
   "id": "223e00c6",
   "metadata": {},
   "outputs": [
    {
     "name": "stdout",
     "output_type": "stream",
     "text": [
      "[]\n"
     ]
    }
   ],
   "source": [
    "print(l)"
   ]
  },
  {
   "cell_type": "code",
   "execution_count": null,
   "id": "824b13cb",
   "metadata": {},
   "outputs": [],
   "source": []
  }
 ],
 "metadata": {
  "kernelspec": {
   "display_name": "Python 3 (ipykernel)",
   "language": "python",
   "name": "python3"
  },
  "language_info": {
   "codemirror_mode": {
    "name": "ipython",
    "version": 3
   },
   "file_extension": ".py",
   "mimetype": "text/x-python",
   "name": "python",
   "nbconvert_exporter": "python",
   "pygments_lexer": "ipython3",
   "version": "3.9.7"
  }
 },
 "nbformat": 4,
 "nbformat_minor": 5
}
