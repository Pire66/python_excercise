{
 "cells": [
  {
   "cell_type": "code",
   "execution_count": 1,
   "id": "ab692dd5",
   "metadata": {},
   "outputs": [],
   "source": [
    "import sqlite3\n",
    "from random import randint\n",
    "from random import shuffle\n",
    "\n",
    "db = sqlite3.connect('m5task2.db')\n",
    "cur = db.cursor()\n",
    "\n",
    "cur.execute(\"CREATE TABLE T(id INT PRIMARY KEY, value INT UNIQUE)\")\n",
    "db.commit()"
   ]
  },
  {
   "cell_type": "code",
   "execution_count": 3,
   "id": "4b3343a2",
   "metadata": {},
   "outputs": [],
   "source": [
    "values = set()\n",
    "halfset = randint(5, 15)\n",
    "for i in range(0, halfset*2 + 1):\n",
    "    while True:\n",
    "        nextval = randint(1, 100)\n",
    "        if nextval not in values:\n",
    "            values.add(nextval)\n",
    "            break\n",
    "\n",
    "v2 = [v for v in values]\n",
    "shuffle(v2)\n",
    "i = 1\n",
    "for v in v2:\n",
    "    cur.execute(\"INSERT INTO T(id, value) VALUES(?, ?)\", (i, v))\n",
    "    i = i + 1\n",
    "db.commit()"
   ]
  },
  {
   "cell_type": "code",
   "execution_count": 21,
   "id": "634ebaa6",
   "metadata": {},
   "outputs": [
    {
     "data": {
      "text/plain": [
       "<sqlite3.Cursor at 0x7f146122a8f0>"
      ]
     },
     "execution_count": 21,
     "metadata": {},
     "output_type": "execute_result"
    }
   ],
   "source": [
    "cur.execute(\"SELECT * FROM T\")"
   ]
  },
  {
   "cell_type": "code",
   "execution_count": 14,
   "id": "d173ab47",
   "metadata": {},
   "outputs": [
    {
     "name": "stdout",
     "output_type": "stream",
     "text": [
      "[(1, 34), (2, 24), (3, 6), (4, 27), (5, 69), (6, 9), (7, 48), (8, 49), (9, 59), (10, 14), (11, 90), (12, 60), (13, 53), (14, 18), (15, 32), (16, 26), (17, 20), (18, 64), (19, 91), (20, 65), (21, 8), (22, 80), (23, 29), (24, 11), (25, 4), (26, 75), (27, 73)]\n"
     ]
    }
   ],
   "source": [
    "print(cur.fetchall())"
   ]
  },
  {
   "cell_type": "code",
   "execution_count": 64,
   "id": "4f705854",
   "metadata": {},
   "outputs": [
    {
     "name": "stdout",
     "output_type": "stream",
     "text": [
      "[(34, 27)]\n"
     ]
    }
   ],
   "source": [
    "cur.execute(\"SELECT value, (SELECT COUNT(*) FROM T) AS C FROM (SELECT ROW_NUMBER() OVER(ORDER BY value) id, value FROM T ) M WHERE id = (1+C/2) ;\")\n",
    "print(cur.fetchall())\n",
    "\n"
   ]
  }
 ],
 "metadata": {
  "kernelspec": {
   "display_name": "Python 3 (ipykernel)",
   "language": "python",
   "name": "python3"
  },
  "language_info": {
   "codemirror_mode": {
    "name": "ipython",
    "version": 3
   },
   "file_extension": ".py",
   "mimetype": "text/x-python",
   "name": "python",
   "nbconvert_exporter": "python",
   "pygments_lexer": "ipython3",
   "version": "3.9.7"
  }
 },
 "nbformat": 4,
 "nbformat_minor": 5
}
