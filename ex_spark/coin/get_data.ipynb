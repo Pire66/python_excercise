{
 "cells": [
  {
   "cell_type": "code",
   "execution_count": 11,
   "id": "d5fef35e",
   "metadata": {},
   "outputs": [],
   "source": [
    "#python get_data_json.py\n",
    "import sys\n",
    "import requests\n",
    "import json\n",
    "import os\n",
    "import shutil\n",
    "monet = \"aave\" \n",
    "days = 365\n",
    "urlRequest = \"https://api.coingecko.com/api/v3/coins/\"+monet+\"/ohlc?vs_currency=usd&days=\"+ str(days)\n",
    "APIanswer = requests.get(urlRequest)"
   ]
  },
  {
   "cell_type": "code",
   "execution_count": 12,
   "id": "b06e45c7",
   "metadata": {},
   "outputs": [],
   "source": [
    "namedir = monet+\"_for_\"+str(days)+\"_days\"\n",
    "filename=monet+\"_OHLC_\"+str(days)+\".json\"\n",
    "filewithpath = namedir + \"/\" + filename\n"
   ]
  },
  {
   "cell_type": "code",
   "execution_count": 13,
   "id": "68bd2408",
   "metadata": {},
   "outputs": [],
   "source": [
    "try:\n",
    "    os.remove(filewithpath)\n",
    "except OSError:\n",
    "    pass"
   ]
  },
  {
   "cell_type": "code",
   "execution_count": 14,
   "id": "94840e5c",
   "metadata": {},
   "outputs": [],
   "source": [
    "try:\n",
    "    shutil.rmtree(namedir)\n",
    "except OSError:\n",
    "    pass\n",
    "os.mkdir(namedir)\n",
    "file_result = APIanswer.text"
   ]
  },
  {
   "cell_type": "code",
   "execution_count": 15,
   "id": "3332923f",
   "metadata": {},
   "outputs": [],
   "source": [
    "#file_resul\n",
    "t =file_result[2:-2]\n",
    "l = t.split('],[')"
   ]
  },
  {
   "cell_type": "code",
   "execution_count": 16,
   "id": "0219f029",
   "metadata": {},
   "outputs": [],
   "source": [
    "with open(filewithpath, \"w\") as fi:\n",
    "    for i in l:\n",
    "        fi.write(i + '\\n')"
   ]
  },
  {
   "cell_type": "code",
   "execution_count": null,
   "id": "69dcff90",
   "metadata": {},
   "outputs": [],
   "source": []
  }
 ],
 "metadata": {
  "kernelspec": {
   "display_name": "Python 3 (ipykernel)",
   "language": "python",
   "name": "python3"
  },
  "language_info": {
   "codemirror_mode": {
    "name": "ipython",
    "version": 3
   },
   "file_extension": ".py",
   "mimetype": "text/x-python",
   "name": "python",
   "nbconvert_exporter": "python",
   "pygments_lexer": "ipython3",
   "version": "3.9.7"
  }
 },
 "nbformat": 4,
 "nbformat_minor": 5
}
