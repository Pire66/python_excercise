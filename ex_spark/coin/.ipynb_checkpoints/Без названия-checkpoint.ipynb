{
 "cells": [
  {
   "cell_type": "code",
   "execution_count": 4,
   "id": "01bde23e",
   "metadata": {},
   "outputs": [],
   "source": [
    "#python get_data_json.py\n",
    "import sys\n",
    "import requests\n",
    "import json\n",
    "import os\n",
    "import shutil\n",
    "monet = \"aave\" \n",
    "days = 365\n",
    "urlRequest = \"https://api.coingecko.com/api/v3/coins/\"+monet+\"/ohlc?vs_currency=usd&days=\"+ str(days)\n",
    "APIanswer = requests.get(urlRequest)"
   ]
  },
  {
   "cell_type": "code",
   "execution_count": 5,
   "id": "d7cbfbe0",
   "metadata": {},
   "outputs": [],
   "source": [
    "namedir = monet+\"_for_\"+str(days)+\"_days\"\n",
    "filename=monet+\"_OHLC_\"+str(days)+\".json\"\n",
    "filewithpath = namedir + \"/\" + filename\n"
   ]
  },
  {
   "cell_type": "code",
   "execution_count": 6,
   "id": "f87c3ab4",
   "metadata": {},
   "outputs": [],
   "source": [
    "try:\n",
    "    os.remove(filewithpath)\n",
    "except OSError:\n",
    "    pass"
   ]
  },
  {
   "cell_type": "code",
   "execution_count": 7,
   "id": "b5da2df8",
   "metadata": {},
   "outputs": [],
   "source": [
    "try:\n",
    "    shutil.rmtree(namedir)\n",
    "except OSError:\n",
    "    pass\n",
    "os.mkdir(namedir)\n",
    "file_result = APIanswer.text"
   ]
  },
  {
   "cell_type": "code",
   "execution_count": 8,
   "id": "4852ef45",
   "metadata": {},
   "outputs": [],
   "source": [
    "with open(filewithpath, \"w\") as fi:\n",
    "    fi.write(file_result)"
   ]
  },
  {
   "cell_type": "code",
   "execution_count": null,
   "id": "5650fa01",
   "metadata": {},
   "outputs": [],
   "source": []
  }
 ],
 "metadata": {
  "kernelspec": {
   "display_name": "Python 3 (ipykernel)",
   "language": "python",
   "name": "python3"
  },
  "language_info": {
   "codemirror_mode": {
    "name": "ipython",
    "version": 3
   },
   "file_extension": ".py",
   "mimetype": "text/x-python",
   "name": "python",
   "nbconvert_exporter": "python",
   "pygments_lexer": "ipython3",
   "version": "3.9.7"
  }
 },
 "nbformat": 4,
 "nbformat_minor": 5
}
